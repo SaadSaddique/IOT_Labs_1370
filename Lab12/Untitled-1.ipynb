{
 "cells": [
  {
   "cell_type": "code",
   "execution_count": null,
   "id": "9e68c44b",
   "metadata": {},
   "outputs": [
    {
     "ename": "IndentationError",
     "evalue": "expected an indented block after 'for' statement on line 13 (2699636406.py, line 14)",
     "output_type": "error",
     "traceback": [
      "\u001b[1;36m  Cell \u001b[1;32mIn[1], line 14\u001b[1;36m\u001b[0m\n\u001b[1;33m    if t < 20 or h < 40:\u001b[0m\n\u001b[1;37m    ^\u001b[0m\n\u001b[1;31mIndentationError\u001b[0m\u001b[1;31m:\u001b[0m expected an indented block after 'for' statement on line 13\n"
     ]
    }
   ],
   "source": [
    "import numpy as np\n",
    "import pandas as pd\n",
    "import tensorflow as tf\n",
    "from sklearn.model_selection import train_test_split\n",
    "from sklearn.preprocessing import LabelEncoder, StandardScaler\n",
    "\n",
    "# Step 1: Generate Synthetic DHT11-like Data\n",
    "np.random.seed(42)\n",
    "data_size = 300\n",
    "temperature = np.random.uniform(15, 35, size=data_size)  # Celsius\n",
    "humidity = np.random.uniform(30, 90, size=data_size)     # Percent\n",
    "\n",
    "# Step 2: Create Rule-Based Labels\n",
    "labels = []\n",
    "for t, h in zip(temperature, humidity):\n",
    "    if t < 20 or h < 40:\n",
    "        labels.append(\"Cold\")\n",
    "    elif 20 <= t <= 28 and 40 <= h <= 70:\n",
    "        labels.append(\"Comfort\")\n",
    "    else:\n",
    "        labels.append(\"Hot\")\n",
    "\n",
    "# Step 3: Create DataFrame\n",
    "df = pd.DataFrame({\n",
    "    \"temperature\": temperature,\n",
    "    \"humidity\": humidity,\n",
    "    \"label\": labels\n",
    "})\n",
    "\n",
    "# Step 4: Encode Labels\n",
    "label_encoder = LabelEncoder()\n",
    "df[\"label_encoded\"] = label_encoder.fit_transform(df[\"label\"])\n",
    "\n",
    "# Step 5: Prepare Features and Target\n",
    "X = df[[\"temperature\", \"humidity\"]].values\n",
    "y = tf.keras.utils.to_categorical(df[\"label_encoded\"].values, num_classes=3)\n",
    "\n",
    "# Step 6: Scale Features\n",
    "scaler = StandardScaler()\n",
    "X_scaled = scaler.fit_transform(X)\n",
    "\n",
    "# Step 7: Train/Test Split\n",
    "X_train, X_test, y_train, y_test = train_test_split(\n",
    "    X_scaled, y, test_size=0.2, random_state=42\n",
    ")\n",
    "\n",
    "# Step 8: Build TensorFlow Model\n",
    "model = tf.keras.Sequential([\n",
    "    tf.keras.layers.Dense(16, activation='relu', input_shape=(2,)),\n",
    "    tf.keras.layers.Dense(8, activation='relu'),\n",
    "    tf.keras.layers.Dense(3, activation='softmax')\n",
    "])\n",
    "\n",
    "model.compile(\n",
    "    optimizer='adam',\n",
    "    loss='categorical_crossentropy',\n",
    "    metrics=['accuracy']\n",
    ")\n",
    "\n",
    "# Step 9: Train Model\n",
    "model.fit(X_train, y_train, validation_split=0.2, epochs=50, verbose=1)\n",
    "\n",
    "# Step 10: Evaluate and Save Model\n",
    "loss, accuracy = model.evaluate(X_test, y_test, verbose=0)\n",
    "print(f\"Test Accuracy: {accuracy:.2f}\")\n",
    "\n",
    "model.save(\"model.h5\")\n",
    "print(\"model.h5 saved successfully!\")\n"
   ]
  },
  {
   "cell_type": "code",
   "execution_count": null,
   "id": "dbd951c4",
   "metadata": {},
   "outputs": [],
   "source": [
    "# Step 11: Convert to TensorFlow Lite format\n",
    "converter = tf.lite.TFLiteConverter.from_keras_model(model)\n",
    "tflite_model = converter.convert()\n",
    "\n",
    "# Step 12: Save the .tflite file\n",
    "with open(\"model.tflite\", \"wb\") as f:\n",
    "    f.write(tflite_model)\n",
    "\n",
    "print(\"Saved model.tflite for ESP32\")\n"
   ]
  },
  {
   "cell_type": "code",
   "execution_count": null,
   "id": "b6319c5f",
   "metadata": {},
   "outputs": [],
   "source": [
    "def bin_to_c_array(input_file, output_file, array_name=\"model_tflite\"):\n",
    "    with open(input_file, \"rb\") as f:\n",
    "        data = f.read()\n",
    "\n",
    "    with open(output_file, \"w\") as f:\n",
    "        f.write(f\"const unsigned char {array_name}[] = {{\\n\")\n",
    "        for i in range(0, len(data), 12):\n",
    "            chunk = data[i:i+12]\n",
    "            line = \", \".join(f\"0x{b:02x}\" for b in chunk)\n",
    "            f.write(\"  \" + line + \",\\n\")\n",
    "        f.write(\"};\\n\")\n",
    "        f.write(f\"const unsigned int {array_name}_len = {len(data)};\\n\")\n",
    "\n",
    "# Usage:\n",
    "bin_to_c_array(\"model.tflite\", \"model_data.h\")\n"
   ]
  }
 ],
 "metadata": {
  "kernelspec": {
   "display_name": "Python 3",
   "language": "python",
   "name": "python3"
  },
  "language_info": {
   "codemirror_mode": {
    "name": "ipython",
    "version": 3
   },
   "file_extension": ".py",
   "mimetype": "text/x-python",
   "name": "python",
   "nbconvert_exporter": "python",
   "pygments_lexer": "ipython3",
   "version": "3.11.0"
  }
 },
 "nbformat": 4,
 "nbformat_minor": 5
}
